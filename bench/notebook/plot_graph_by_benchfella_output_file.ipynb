{
 "cells": [
  {
   "cell_type": "code",
   "execution_count": null,
   "metadata": {},
   "outputs": [],
   "source": [
    "# benchfellaの出力ファイルからグラフを出力するための関数群"
   ]
  },
  {
   "cell_type": "code",
   "execution_count": 2,
   "metadata": {},
   "outputs": [],
   "source": [
    "import matplotlib.pyplot as plt\n",
    "import matplotlib.ticker as ptick\n",
    "import os\n",
    "import sys\n",
    "import numpy as np\n",
    "import time\n",
    "\n",
    "%matplotlib inline"
   ]
  },
  {
   "cell_type": "code",
   "execution_count": 16,
   "metadata": {},
   "outputs": [],
   "source": [
    "# confing\n",
    "FILE_NAME = \"2020-03-01_19-37-13.snapshot\""
   ]
  },
  {
   "cell_type": "code",
   "execution_count": 17,
   "metadata": {},
   "outputs": [
    {
     "data": {
      "text/plain": [
       "'../snapshots/2020-03-01_19-37-13.snapshot'"
      ]
     },
     "execution_count": 17,
     "metadata": {},
     "output_type": "execute_result"
    }
   ],
   "source": [
    "## about file_path\n",
    "SNAPSHOT_IN_DIR_NAME = \"../snapshots\"\n",
    "SAVE_GRAPH_PNG_IN_DIR = \"graphs\"\n",
    "\n",
    "FILE_PATH = os.path.join(SNAPSHOT_IN_DIR_NAME, FILE_NAME)\n",
    "\n",
    "## about graph\n",
    "GRAPH_TITLE = \"parallel sum performanx/each data size\"\n",
    "X_LABEL = \"bench mark name(data size)\"\n",
    "Y_LABEL = \"average time(µs/op)\"\n",
    "GRAPH_SIZE = (8, 6)\n",
    "\n",
    "## n_dim_func\n",
    "funcs = {\n",
    "    \"1\": lambda row: row[0]\n",
    "}\n",
    "\n",
    "FILE_PATH"
   ]
  },
  {
   "cell_type": "code",
   "execution_count": 18,
   "metadata": {},
   "outputs": [],
   "source": [
    "# utils\n",
    "def extraction_index(two_dim_lst, idx):\n",
    "        \"\"\"\n",
    "            TASK: 2次元リストから特定のindexを抽出\n",
    "            two_dim_lst([][]interface) -> 特定の２次元リスト\n",
    "            idx(int) -> 取得したいindex番号\n",
    "        \"\"\"\n",
    "        return [row[idx] for row in two_dim_lst] \n",
    "\n",
    "def read_snap_shot(file_path):\n",
    "    \"\"\"\n",
    "        TASK: .snaphostファイルの読み込みと配列への変換\n",
    "        file_path(str) -> 対象のスナップショットへのファイルパス\n",
    "        return []str\n",
    "    \"\"\"\n",
    "    with open(file_path) as f:\n",
    "        return f.read().split(\"\\n\")[2:-1]\n",
    "    \n",
    "\n",
    "def adj_row_lst(row_lst):\n",
    "    \"\"\"\n",
    "        TASK: .snapshotを読み込み生成した[]strをグラフ描画のために整形\n",
    "        row_lst([]str) -> read_snap_shot()によって生成された配列\n",
    "        return [][str, float]\n",
    "    \"\"\"\n",
    "    # rowデータをsplitして配列に変換\n",
    "    rm_module_name = list(map(lambda row: list(filter(lambda x: x, row.split(\"\\t\"))), row_lst))\n",
    "    # module名が不要なので除去\n",
    "    split_by_title = list(map(lambda row: row[1:], rm_module_name))\n",
    "    # 経過時間をiteration数で割り平均実行時間を算出\n",
    "    calced = list(map(lambda row: [row[0].split(\" \")[-1], int(row[2]) / int(row[1])], split_by_title))\n",
    "    return calced\n",
    "\n",
    "\n",
    "def plot_bar(graph_title, adj_row_lst, is_save=False):\n",
    "    \"\"\"\n",
    "        TASK: 整形を行なったデータを棒グラフで描画\n",
    "        graph_title(str) -> グラフに描画するタイトル\n",
    "        adj_row_lst([][str, float]) -> adj_row_lst()によって生成された描画用配列\n",
    "        return None\n",
    "    \"\"\"    \n",
    "    # 出力グラフサイズの変更\n",
    "    plt.figure(figsize=GRAPH_SIZE)\n",
    "    # 棒グラフの設定\n",
    "    plt.bar(\n",
    "        x=extraction_index(adj_row_lst, 0),\n",
    "        height=extraction_index(adj_row_lst, 1),\n",
    "        width=0.7\n",
    "    )\n",
    "\n",
    "    # グラフタイトルなどの設定\n",
    "    # y軸を10^n　の指数表記に変更\n",
    "    plt.ticklabel_format(style='sci',axis='y',scilimits=(0,0)) \n",
    "    ptick.ScalarFormatter(useMathText=True)\n",
    "    \n",
    "    plt.title(graph_title)\n",
    "    plt.xlabel(X_LABEL)\n",
    "    plt.ylabel(Y_LABEL)\n",
    "    plt.grid(True)\n",
    "    \n",
    "    # keyの指定があれば現在時間+タイトルで.png形式で画像を保存\n",
    "    if is_save:\n",
    "        title_name = graph_title\n",
    "        if len(graph_title.split(\" \")) > 0:\n",
    "            title_name = graph_title.replace(\" \", \"_\")\n",
    "        plt.savefig(os.path.join(\"../\", SAVE_GRAPH_PNG_IN_DIR,  f'{time.time()}_{title_name}.png'))\n",
    "        \n",
    "    plt.show()\n",
    "\n",
    "\n",
    "def each_ploter(row_lst, iter_num, titles, is_save=False):\n",
    "    \"\"\"\n",
    "        TASK: 面倒なデータ分割と描画処理をまとめて行う\n",
    "        row_lst([]str) -> read_snap_shot()にてファイルから読み込んで生成した配列\n",
    "        iter_num(int) -> 配列を何要素ごとに分割するか\n",
    "        titles([]str) -> グラフに使用するタイトル群\n",
    "        is_save(bool) False -> グラフを画像として保存するかどうか\n",
    "        return None\n",
    "    \"\"\"\n",
    "    def _calc_iter(lst, iter_num):\n",
    "        \"\"\"\n",
    "            TASK: 受け取ったリストと分割要素数よりiterationを何度行うかを算出する\n",
    "            lst([]interface) -> read_snap_shot()にてファイルから読み込んで生成した配列\n",
    "            iter_num(int) -> 配列を何要素ごとに分割するか\n",
    "            return int\n",
    "        \"\"\"\n",
    "        lst_size = len(lst)\n",
    "        if lst_size % iter_num == 0:\n",
    "            return lst_size // iter_num\n",
    "        return (lst_size // iter_num) + 1\n",
    "\n",
    "    total_iter = _calc_iter(row_lst, iter_num)\n",
    "    assert total_iter == len(titles), \"Not match splited data size from titles\"\n",
    "\n",
    "    for i in range(0, total_iter):\n",
    "        res = adj_row_lst(row_lst[iter_num*i:iter_num*(i+1)])\n",
    "        plot_bar(titles[i], res, is_save)"
   ]
  },
  {
   "cell_type": "code",
   "execution_count": 21,
   "metadata": {
    "scrolled": true
   },
   "outputs": [
    {
     "data": {
      "image/png": "[encoded data removed]",
      "text/plain": [
       "<matplotlib.figure.Figure at 0x10ec82780>"
      ]
     },
     "metadata": {},
     "output_type": "display_data"
    },
    {
     "data": {
      "image/png": "[encoded data removed]",
      "text/plain": [
       "<matplotlib.figure.Figure at 0x10ec829e8>"
      ]
     },
     "metadata": {},
     "output_type": "display_data"
    }
   ],
   "source": [
    "# ファイルを読み込んで配列に変換\n",
    "row_lst = read_snap_shot(FILE_PATH)\n",
    "# ベンチマークごと(5つ)にグラフをプロットして保存\n",
    "each_ploter(row_lst, 4, [\"parallel enum\", \"parallel recursive\"], True)"
   ]
  },
  {
   "cell_type": "code",
   "execution_count": null,
   "metadata": {},
   "outputs": [],
   "source": []
  }
 ],
 "metadata": {
  "kernelspec": {
   "display_name": "Python 3",
   "language": "python",
   "name": "python3"
  },
  "language_info": {
   "codemirror_mode": {
    "name": "ipython",
    "version": 3
   },
   "file_extension": ".py",
   "mimetype": "text/x-python",
   "name": "python",
   "nbconvert_exporter": "python",
   "pygments_lexer": "ipython3",
   "version": "3.6.4"
  }
 },
 "nbformat": 4,
 "nbformat_minor": 2
}
